{
 "cells": [
  {
   "cell_type": "code",
   "execution_count": 1,
   "metadata": {},
   "outputs": [],
   "source": [
    "from bs4 import BeautifulSoup"
   ]
  },
  {
   "cell_type": "code",
   "execution_count": 2,
   "metadata": {},
   "outputs": [
    {
     "data": {
      "text/plain": [
       "200"
      ]
     },
     "execution_count": 2,
     "metadata": {},
     "output_type": "execute_result"
    }
   ],
   "source": [
    "import requests\n",
    "response1 = requests.get('https://forecast.weather.gov/MapClick.php?lat=37.777120000000025&lon=-122.41963999999996#.X52g9tAzZnI')\n",
    "response1.status_code\n"
   ]
  },
  {
   "cell_type": "code",
   "execution_count": 7,
   "metadata": {},
   "outputs": [],
   "source": [
    "html1 = BeautifulSoup(response1.content, 'html.parser')\n",
    "headers = html1.find_all('div', attrs = {'class':'row-forecast'} )"
   ]
  },
  {
   "cell_type": "code",
   "execution_count": 8,
   "metadata": {},
   "outputs": [
    {
     "name": "stdout",
     "output_type": "stream",
     "text": [
      "[<div class=\"row row-odd row-forecast\"><div class=\"col-sm-2 forecast-label\"><b>Today</b></div><div class=\"col-sm-10 forecast-text\">Sunny, with a high near 75. Calm wind becoming west northwest around 6 mph in the afternoon. </div></div>, <div class=\"row row-even row-forecast\"><div class=\"col-sm-2 forecast-label\"><b>Tonight</b></div><div class=\"col-sm-10 forecast-text\">Mostly clear, with a low around 53. West wind 5 to 9 mph becoming calm  after midnight. </div></div>, <div class=\"row row-odd row-forecast\"><div class=\"col-sm-2 forecast-label\"><b>Sunday</b></div><div class=\"col-sm-10 forecast-text\">Sunny, with a high near 76. Calm wind becoming northwest around 5 mph in the afternoon. </div></div>, <div class=\"row row-even row-forecast\"><div class=\"col-sm-2 forecast-label\"><b>Sunday Night</b></div><div class=\"col-sm-10 forecast-text\">Partly cloudy, with a low around 54. West wind 5 to 8 mph becoming calm  after midnight. </div></div>, <div class=\"row row-odd row-forecast\"><div class=\"col-sm-2 forecast-label\"><b>Monday</b></div><div class=\"col-sm-10 forecast-text\">Sunny, with a high near 77. Light northwest wind. </div></div>, <div class=\"row row-even row-forecast\"><div class=\"col-sm-2 forecast-label\"><b>Monday Night</b></div><div class=\"col-sm-10 forecast-text\">Partly cloudy, with a low around 53.</div></div>, <div class=\"row row-odd row-forecast\"><div class=\"col-sm-2 forecast-label\"><b>Tuesday</b></div><div class=\"col-sm-10 forecast-text\">Mostly sunny, with a high near 72.</div></div>, <div class=\"row row-even row-forecast\"><div class=\"col-sm-2 forecast-label\"><b>Tuesday Night</b></div><div class=\"col-sm-10 forecast-text\">Partly cloudy, with a low around 54.</div></div>, <div class=\"row row-odd row-forecast\"><div class=\"col-sm-2 forecast-label\"><b>Wednesday</b></div><div class=\"col-sm-10 forecast-text\">Mostly sunny, with a high near 72.</div></div>, <div class=\"row row-even row-forecast\"><div class=\"col-sm-2 forecast-label\"><b>Wednesday Night</b></div><div class=\"col-sm-10 forecast-text\">Partly cloudy, with a low around 55.</div></div>, <div class=\"row row-odd row-forecast\"><div class=\"col-sm-2 forecast-label\"><b>Thursday</b></div><div class=\"col-sm-10 forecast-text\">Mostly sunny, with a high near 73.</div></div>, <div class=\"row row-even row-forecast\"><div class=\"col-sm-2 forecast-label\"><b>Thursday Night</b></div><div class=\"col-sm-10 forecast-text\">Partly cloudy, with a low around 55.</div></div>, <div class=\"row row-odd row-forecast\"><div class=\"col-sm-2 forecast-label\"><b>Friday</b></div><div class=\"col-sm-10 forecast-text\">Mostly sunny, with a high near 68.</div></div>]\n"
     ]
    }
   ],
   "source": [
    "print(headers)"
   ]
  },
  {
   "cell_type": "code",
   "execution_count": 10,
   "metadata": {},
   "outputs": [
    {
     "name": "stdout",
     "output_type": "stream",
     "text": [
      "Day: Today\n",
      "Description: Sunny, with a high near 75. Calm wind becoming west northwest around 6 mph in the afternoon. \n",
      "Day: Tonight\n",
      "Description: Mostly clear, with a low around 53. West wind 5 to 9 mph becoming calm  after midnight. \n",
      "Day: Sunday\n",
      "Description: Sunny, with a high near 76. Calm wind becoming northwest around 5 mph in the afternoon. \n",
      "Day: Sunday Night\n",
      "Description: Partly cloudy, with a low around 54. West wind 5 to 8 mph becoming calm  after midnight. \n",
      "Day: Monday\n",
      "Description: Sunny, with a high near 77. Light northwest wind. \n",
      "Day: Monday Night\n",
      "Description: Partly cloudy, with a low around 53.\n",
      "Day: Tuesday\n",
      "Description: Mostly sunny, with a high near 72.\n",
      "Day: Tuesday Night\n",
      "Description: Partly cloudy, with a low around 54.\n",
      "Day: Wednesday\n",
      "Description: Mostly sunny, with a high near 72.\n",
      "Day: Wednesday Night\n",
      "Description: Partly cloudy, with a low around 55.\n",
      "Day: Thursday\n",
      "Description: Mostly sunny, with a high near 73.\n",
      "Day: Thursday Night\n",
      "Description: Partly cloudy, with a low around 55.\n",
      "Day: Friday\n",
      "Description: Mostly sunny, with a high near 68.\n"
     ]
    }
   ],
   "source": [
    "for box in headers:\n",
    "\tprint(\"Day: \" + box.find('b').text)\n",
    "\tprint(\"Description: \" + box.find_all('div')[-1].text)\n"
   ]
  },
  {
   "cell_type": "code",
   "execution_count": null,
   "metadata": {},
   "outputs": [],
   "source": []
  }
 ],
 "metadata": {
  "kernelspec": {
   "display_name": "Python 3",
   "language": "python",
   "name": "python3"
  },
  "language_info": {
   "codemirror_mode": {
    "name": "ipython",
    "version": 3
   },
   "file_extension": ".py",
   "mimetype": "text/x-python",
   "name": "python",
   "nbconvert_exporter": "python",
   "pygments_lexer": "ipython3",
   "version": "3.7.6"
  }
 },
 "nbformat": 4,
 "nbformat_minor": 4
}
