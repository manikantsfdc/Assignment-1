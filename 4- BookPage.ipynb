{
 "cells": [
  {
   "cell_type": "code",
   "execution_count": 1,
   "metadata": {},
   "outputs": [],
   "source": [
    "from bs4 import BeautifulSoup\n",
    "import requests\n",
    "response1 = requests.get('https://bookpage.com/reviews/')"
   ]
  },
  {
   "cell_type": "code",
   "execution_count": 2,
   "metadata": {},
   "outputs": [
    {
     "data": {
      "text/plain": [
       "200"
      ]
     },
     "execution_count": 2,
     "metadata": {},
     "output_type": "execute_result"
    }
   ],
   "source": [
    "response1.status_code"
   ]
  },
  {
   "cell_type": "code",
   "execution_count": 3,
   "metadata": {},
   "outputs": [],
   "source": [
    "html1 = BeautifulSoup(response1.content, 'html.parser')"
   ]
  },
  {
   "cell_type": "code",
   "execution_count": 5,
   "metadata": {},
   "outputs": [],
   "source": [
    "headers = html1.find_all('div', attrs = {'class': 'row-fluid article-row'})\n",
    "\n",
    "counter = 0\n",
    "book_link = []\n",
    "for box in headers:\n",
    "\tcounter += 1\n",
    "\tbook_link.append(box.find('h4').find_all('a')[0]['href'])\n",
    "\n",
    "\tif counter == 5:\n",
    "\t\tbreak"
   ]
  },
  {
   "cell_type": "code",
   "execution_count": 16,
   "metadata": {},
   "outputs": [
    {
     "name": "stdout",
     "output_type": "stream",
     "text": [
      "https://bookpage.com/reviews/25671-elizabeth-berg-ill-be-seeing-you-nonfiction\n",
      "\n",
      "Elizabeth Berg\n",
      "\n",
      "\n",
      "I'll Be Seeing You\n",
      "\n",
      "\n",
      "\n",
      "“This book is a diary of my parents’ decline.”\n",
      "So opens novelist Elizabeth Berg’s new biographic memoir, I’ll Be Seeing You. Yes, her prologue speaks bluntly, but don't be deterred. Though this book does bear witness to the inevitability of aging and loss, it is nonetheless a small gem shining with Berg’s signature largesse—generous gifts of poetic insight, close observance, vulnerability, honesty, humor and grace.\n",
      "Berg’s father, a tough U.S. Army “lifer,” is in the early stages of Alzheimer’s disease, while his wife of more than 67 years tries to cope. Though he's always been autocratic and demanding, Berg’s father unconditionally adores his wife. “She was the place where he put his tenderness,” Berg writes. Eventually, his gradual descent into dementia, along with his wife’s advancing age, force the couple to move from their longtime home into a two-bedroom apartment in an assisted living facility.\n",
      "Berg and her sister try to negotiate and navigate this upheaval with their parents’ best interests at heart, but complications arise. Their father is increasingly confused and isolated, and their usually even-tempered mother becomes angry—an understandable reaction to her two-pronged grief over losing her husband to dementia and leaving a beloved home. “My mother was enraged,\" Berg writes. \"Her heart was breaking because her house was being taken from her, which is to say that her life was.”\n",
      "From the fall of 2010 to the summer of 2011, short diary entries focus mainly on the events of Berg’s aging parents’ lives, as the author and her sister step in to be their parents’ loving—and often frustrated—family caregivers. “It’s hard to know how to rescue someone. It’s hard to know how to help them in the way they need to be helped,” she writes in one entry. Such rueful reflections are blended with an appreciation of ordinary moments, making each entry a story in miniature—cameos of the joys and pains of family life, and the challenges and rewards of caregiving for loved ones.\n",
      "Readers familiar with Berg’s novels know that her stories wonderfully encompass the comforts of beauty and wry humor, but they never sugarcoat life’s hard truths. The same is true of I'll Be Seeing You, which mines the wisdom hidden in difficult times. “Life is a minefield at any age,\" Berg writes. \"If we’re smart, we count our blessings between the darker surprises. When I look at my parents’ lives, I know they were lucky. And still are.”\n",
      "\n",
      "\n",
      "\n",
      "Nonfiction\n",
      " / \n",
      "Memoir\n",
      " / \n",
      "Family & Relationships\n",
      "\n",
      "https://bookpage.com/reviews/25654-jess-walter-cold-millions-fiction\n",
      "\n",
      "Jess Walter\n",
      "\n",
      "\n",
      "The Cold Millions\n",
      "\n",
      "\n",
      "\n",
      "Jess Walter’s first novel in eight years arrives with the weight of high expectations. His last, Beautiful Ruins, was a surprising and well-deserved bestseller. His previous fiction—including crime novels, a 9/11 tale and short stories—were rapturously reviewed.\n",
      "In The Cold Millions, Walter tries another mixed genre, the Western historical novel, and shows he is a master at investigating the “hobo” world of 1909. The star of the book is Spokane, Washington, a “boomtown that just kept booming.” It is here, amid skid row poverty and mansions of wealth, that 19-year-old rabble rouser Elizabeth Gurley Flynn intersects with two orphaned young men, Rye and Gig, who are the protagonists of the story.\n",
      "The book is uneven, however, and falls short of the romanticism of Beautiful Ruins. There is fine detail on dark anarchy and dank jail cells, but unlike Walter’s funny version of Richard Burton in Ruins, Flynn is so focused (one might say didactic) as to be wooden. Her leadership of the dismal class struggle becomes repetitive. Rye and Gig are callow, and even though Gig is a book lover and Rye a striver, they don’t fully inhabit their space. Readers may be far more interested in the villain, a robber baron named Brand, and a smart circus performer named Ursula the Great. When these two are cavorting, The Cold Millions shines.\n",
      "Walter has devised some fantastic set pieces, including a riot that leads to a dreadful scene of jail overcrowding. The freedom of the road, the lawlessness of the police, the spectacle of a few cynical power figures making life miserable for the huddled masses—it’s all enlivened by Walter’s vivid writing. A reader can feel the rails rattling under the trains that thunder through the mountains. A new life, the 20th century, is roaring into being. As Rye thinks to himself, “History is like a parade.” \n",
      "Forget the book’s shortcomings; it’s good to have Jess Walter back.\n",
      " \n",
      "ALSO IN BOOKPAGE: Jess Walter offers a closer look at The Cold Millions, his “last-gasp Western.”\n",
      "\n",
      "\n",
      "\n",
      "Fiction\n",
      " / \n",
      "Historical Fiction\n",
      "\n",
      "https://bookpage.com/reviews/25533-martin-amis-inside-story-fiction\n",
      "\n",
      "Martin Amis\n",
      "\n",
      "\n",
      "Inside Story\n",
      "\n",
      "\n",
      "\n",
      "Though this book is categorized as a novel, there is little that, on the surface, appears fictional in British writer Martin Amis’ capacious “novelized memoir,” Inside Story. The book, he writes in its opening pages, “is about a life, my own, so it won’t read like a novel—more like a collection of linked short stories, with essayistic detours.” These short stories might better be called “episodes” that congeal into a metanarrative that is largely about the author’s lasting friendships with three late writers whose deaths left various scars on his personal landscape: his dear friend Christopher Hitchens, his mentor Saul Bellow and his parents’ close friend, the poet Philip Larkin.\n",
      "Amis’ account sprawls back and forth across decades and continents, shifting not only in time but also in tense and voice, interrupted by a sometimes overwhelming quantity of explicating footnotes. This intentional disregard for conventional storytelling further blurs the line between truth and imagination. The reader presumes that much of the content is true at heart, with specifics morphed by the passage of time and the untrustworthiness of memory. But which parts are made up?\n",
      "Readers might suspect that the character of Phoebe Phelps, a quirky, often infuriating girlfriend from the 1970s who remains Amis’ obsession for his entire adult life, is based in truth, if perhaps wildly exaggerated. But was she really a former escort turned high-class madam masquerading as a financial executive? Who knows? Amis certainly isn’t saying, nor should he. The important thing is that Phoebe drops a tantalizing, if dubious, bombshell halfway through that provides the book’s most compelling plot twist.\n",
      "In one of the labyrinthine footnotes late in the book, Amis says of Bellow, “All the dead were in his custody, and he couldn’t let them go.” These elegant words might be applied to the real-life Amis as well. Now 71, this once-young buck of the British literary scene cannot help but look death, mortality and the meaning of life squarely in the face. And he does so with a singular panache and much offhanded wit, forging through upheavals past and present: 9/11, the Israeli-Palestinian conflict, the Trump presidency, totalitarianism, Islamism, the sexual revolution, Alzheimer’s and cancer, among many other dark realities.\n",
      "Most readers will likely deem Inside Story more memoir than novel. It is certainly a sui generis work either way. Early on I christened it a “kitchen sink” book (as in, “everything but the”) and had to laugh, about halfway in, when the fictional Amis actually “poured the [drink] down the kitchen sink.” Yet whatever its hybrid status suggests, it regally caps Amis’ estimable literary career with cheeky candor and more than a touch of razzle-dazzle.\n",
      "\n",
      "\n",
      "\n",
      "Fiction\n",
      " / \n",
      "Literary Fiction\n",
      "\n",
      "https://bookpage.com/reviews/25683-andrzej-sapkowski-tower-fools-science-fiction-fantasy\n",
      "\n",
      "Andrzej Sapkowski\n",
      "\n",
      "\n",
      "The Tower of Fools\n",
      "\n",
      "\n",
      "\n",
      "Take a moment and consider the last time you studied medieval European history, specifically the advent of Hussite “heresy” in the wake of John Wycliffe’s translation of the Bible into the common tongue. Focus specifically on the years between 1400 and 1440, during which the first through third anti-Hussite crusades took place. If these inquiries bring specific, vivid events to mind, then The Tower of Fools by Andrzej Sapkowski will be a fitting read for an enterprising European history enthusiast such as yourself.\n",
      "Set in the powder keg of 15th-century Europe, The Tower of Fools brings readers into a richly referential world of Christian history as it casually dissects the events leading to the Protestant Reformation. Often Sapkowski's references come audaciously close breaking the fourth wall (a character quite literally references nailing theses to a wall while coincidentally owning a cat named Luther). These references are spearheaded by our protagonist, Reinmar of Bielawa, who is an infamous seducer of married women and also a doctor, a student and a mage.\n",
      "While the book is strongly grounded in the real events and politics of Catholic history in Europe, Sapkowski delights in depicting a range of magical abilities and creatures in his version of medieval Europe. His characters encounter the supernatural in a fairly believable way: with heavy skepticism, then fear, then denial and then, finally, acceptance. Magic, witchcraft and magical creatures enter and exit the story with such abruptness that neither readers nor characters have time to digest the last before the second appears before them. The supernatural elements, however, are not the primary crux of the story. The Tower of Fools deploys irony with the grace of a stampeding elephant, and, as such, our story centers on the king of fools, Reinmar. Reinmar embarks on a journey in which every wise character, force of nature, twist of fate and clear sign from God attempts to dissuade him from pursuing who Reinmar believes is his one true love, Adele. Adele is, naturally, a married woman, and Reinmar meets a motley crew of miscreants during his harrowing quest for her love.\n",
      "The Tower of Fools clearly sets up for a series but provides ample entertainment as a standalone story. Sapkowski’s primary draw is his ability to weave rich historical context with a complex atmosphere of magic and superstition. The central characters are merely points of view that provide the reader a detailed perspective of the world; Reinmar and company are simple characters who grow little by the end of the story. However, this simplicity services the story Sapkowski tells, providing an easy starting point for readers to navigate the complex politics and superstition of the time period. While this is certainly not a slow read, Sapkowski does dole out plot points at a methodical pace. The first 300 pages or so pass before our central triad of characters meet up, and even longer passes before the larger subplots begin to come together.\n",
      "Even with a fairly extensive understanding of Catholic history, I needed to keep Google handy while reading, and at one point I looked up a map of Silesia at the narration’s not-so-subtle prompting. Sapkowski often incorporates three other languages, and occasionally up to five, in addition to English: Polish, Latin and Italian primarily, with occasional French and German. He incorporates theology from early church figures like Augustine alongside the “modern” church leaders of the early- to mid-1400s, such as Wycliffe and Jan Hus and the Roman Curia. I would strongly suggest readers take the time to look up the words and references they do not understand. If all of these languages and references scare you—good. They should. The Tower of Fools is not an easy read, but it's quite rewarding for readers ready to take the plunge.\n",
      "\n",
      "\n",
      "\n",
      "Science Fiction & Fantasy\n",
      " / \n",
      "Fantasy\n",
      " / \n",
      "Historical Fantasy\n",
      "\n",
      "https://bookpage.com/reviews/25686-rebekah-weatherspoon-if-boot-fits-romance\n",
      "\n",
      "Rebekah Weatherspoon\n",
      "\n",
      "\n",
      "★ If the Boot Fits\n",
      "\n",
      "\n",
      "\n",
      "One of romance’s brightest stars, Rebekah Weatherspoon is known for her sweet and steamy stories. With If the Boot Fits, the second in the Cowboys of California series, she  burnishes that reputation further, delivering a thoroughly modern Cinderella story about an aspiring screenwriter hesitantly falling for a sexy, celebrity, cinnamon-roll-sweet hero with swagger.\n",
      "Weatherspoon deftly translates the classic rags to riches fairy tale's core elements into a 21st-century context. As an overworked and underappreciated assistant, Amanda McQueen is the perfect contemporary equivalent of a put-upon poor relation—an invisible underling with proximity to the glitter and glam of Hollywood, but no meaningful access. Cinderella’s stepsisters and wicked stepmother have merged into a single figure, the pampered and punitive starlet Dru Anastasia, who uses Amanda as an emotional sounding board but provides little pay and no respect in return. Sam Pleasant, a former cowboy and scion of a venerable Black Hollywood family, makes an excellent 21st-century prince, and the Vanity Fair Oscar party easily stands in for a royal ball.\n",
      "While it’s great fun to see this fantasy transformed, the relationship between Amanda and Sam is the beating heart of the story, and the way their connection develops is brand new. After all, Cinderella and Prince Charming didn’t hook up after the ball. Also new is Amanda’s irreverence and incredulity the morning after, when she wakes up in a hotel room and can’t help but think, “The night before must have been a dream.” Her mind boggles as she contemplates the series of events that led from the Vanity Fair Oscar party to an A-list after-party, and, eventually, to Sam’s bed. Her conclusion: “There was no way. . . . There was absolutely no freaking way she’d run into Samuel Pleasant at both events, and surely you’d be joking if you told her that sometime in the night she and Sam had completely hit it off.”\n",
      "This is Amanda’s voice throughout— lively, skeptical and incredibly relatable. Thinking this can’t happen or it’s just one night is incredibly freeing, and Amanda could use some freedom from her grind. One moment, she and Sam are having fun, with no names exchanged and no expectations. The next, he’s asking for her name in the middle of her “enthusiastic rendition of the cha-cha slide.” But she’s still skeptical, so she plays it cool and keeps it moving. “Sorry, I can’t hear you. I’m dancing,” is Amanda’s reply, and she assumes that’s that.\n",
      "It’s a joy to read those initial scenes and watch Sam and Amanda's warring instincts battle it out. Weatherspoon creates vivid, specific characters and gives them wonderful interior lives and excellent banter. Their romance begins with that one-night stand, and the initial spark grows through a shared sense of fun, common values and tastes. Sam recognizes something in Amanda, and he invites her into his home and his inner circle without hesitation.\n",
      "It should be obvious that they belong together, and yet, despite the chemistry and all their commonalities, according to the conventions of Hollywood, romantic fiction and fairy tales, Sam and Amanda qualify as an “unlikely couple,” defying major societal norms. Sam comes from a wealthy family and has just won an Academy Award, whereas Amanda is “a D-list actress’s lowly assistant” who is struggling to find her footing in the entertainment industry and to just make her rent each month. And even though they’re both African American, Amanda is a beautiful, dark-skinned, plus-size Black woman. In a culture that still holds fast to narrow definitions of what constitutes beauty, this reduces her status and eligibility. To be clear, Amanda has confidence in her talent and her looks. She’s also very aware, however, and sometimes overtly reminded, that successful Black women in Hollywood don’t often look like her. The contrast to her boss, Dru, a thin, light-skinned biracial woman, is especially prominent.\n",
      "It’s not often that distinctions like this are directly challenged on the page in traditionally published romance, and Weatherspoon handles it all with grace, allowing discomfiting truths and subtle social critique to emerge organically from the events of the story. Conflicts around class, color and size are just part of this romance, however. It’s really about character and family. Though If the Boot Fits places Amanda in a professional context in which she cannot fully escape toxic standards, much of the central relationship develops on Sam’s ranch, a hundred miles away from the image-obsessed center of the storm. As a result, their love story never feels didactic and the romance never gets weighed down. There’s warmth and lightness throughout this very contemporary, yet ultimately classically romantic retelling—Amanda thrives on the support from her own friends and family, and Sam’s family may be Black Hollywood royalty, but they're also grounded, kind human beings, who embrace her and remind her of home. Readers who want romance to explore some of the real issues that women like Amanda face and see her beautifully celebrated and cherished will absolutely adore this book.\n",
      "\n",
      "\n",
      "\n",
      "Romance\n",
      " / \n",
      "Contemporary Romance\n",
      "\n"
     ]
    }
   ],
   "source": [
    "domain='https://bookpage.com'\n",
    "for link in book_link:\n",
    "    print(domain+link)\n",
    "    pagedata = requests.get(domain+link)\n",
    "    html = BeautifulSoup(pagedata.content, 'html.parser')\n",
    "    author_name = html.find('h4').text\n",
    "    book_name = html.find('h1').text\n",
    "    print(author_name)\n",
    "    print(book_name)\n",
    "    review = html.find('div', attrs = {'class':'article-body'}).text\n",
    "    genre = html.find('p', attrs = {'class':'genre-links'}).text\n",
    "    print(review)\n",
    "    print(genre)\n",
    "    "
   ]
  },
  {
   "cell_type": "code",
   "execution_count": null,
   "metadata": {},
   "outputs": [],
   "source": []
  }
 ],
 "metadata": {
  "kernelspec": {
   "display_name": "Python 3",
   "language": "python",
   "name": "python3"
  },
  "language_info": {
   "codemirror_mode": {
    "name": "ipython",
    "version": 3
   },
   "file_extension": ".py",
   "mimetype": "text/x-python",
   "name": "python",
   "nbconvert_exporter": "python",
   "pygments_lexer": "ipython3",
   "version": "3.7.6"
  }
 },
 "nbformat": 4,
 "nbformat_minor": 4
}
